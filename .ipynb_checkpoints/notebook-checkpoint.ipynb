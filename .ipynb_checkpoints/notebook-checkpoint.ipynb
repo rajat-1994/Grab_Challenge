{
 "cells": [
  {
   "cell_type": "markdown",
   "metadata": {},
   "source": [
    "### LOADING LIBRARIES"
   ]
  },
  {
   "cell_type": "code",
   "execution_count": 1,
   "metadata": {
    "ExecuteTime": {
     "end_time": "2019-06-15T15:28:06.787677Z",
     "start_time": "2019-06-15T15:28:01.712565Z"
    }
   },
   "outputs": [],
   "source": [
    "%matplotlib inline\n",
    "%reload_ext autoreload\n",
    "%autoreload 2\n",
    "import warnings\n",
    "warnings.filterwarnings('ignore')"
   ]
  },
  {
   "cell_type": "code",
   "execution_count": 2,
   "metadata": {
    "ExecuteTime": {
     "end_time": "2019-06-15T15:29:11.964561Z",
     "start_time": "2019-06-15T15:28:06.789617Z"
    }
   },
   "outputs": [],
   "source": [
    "import pandas as pd\n",
    "import numpy as np\n",
    "import tensorflow as tf\n",
    "import tensorflow.keras as k\n",
    "import matplotlib.pyplot as plt\n",
    "from PIL import Image\n",
    "import scipy.io\n",
    "import cv2, glob, os\n",
    "import time\n",
    "from pathlib import Path\n",
    "from tensorflow.keras.utils import Sequence\n",
    "from sklearn.utils import shuffle\n",
    "from sklearn.model_selection import train_test_split\n",
    "from generator import *\n",
    "from utils import *"
   ]
  },
  {
   "cell_type": "code",
   "execution_count": 3,
   "metadata": {
    "ExecuteTime": {
     "end_time": "2019-06-15T15:29:12.179603Z",
     "start_time": "2019-06-15T15:29:11.965945Z"
    }
   },
   "outputs": [
    {
     "name": "stdout",
     "output_type": "stream",
     "text": [
      "1.13.1\n"
     ]
    }
   ],
   "source": [
    "print(tf.__version__)"
   ]
  },
  {
   "cell_type": "code",
   "execution_count": 4,
   "metadata": {
    "ExecuteTime": {
     "end_time": "2019-06-15T15:29:12.494651Z",
     "start_time": "2019-06-15T15:29:12.181553Z"
    }
   },
   "outputs": [],
   "source": [
    "SEED = 100\n",
    "np.random.seed(SEED)\n",
    "tf.random.set_random_seed(SEED)"
   ]
  },
  {
   "cell_type": "markdown",
   "metadata": {},
   "source": [
    "***Uncomment below cell to download data***"
   ]
  },
  {
   "cell_type": "code",
   "execution_count": 5,
   "metadata": {
    "ExecuteTime": {
     "end_time": "2019-06-15T15:29:12.724407Z",
     "start_time": "2019-06-15T15:29:12.502214Z"
    }
   },
   "outputs": [],
   "source": [
    "# !wget http://imagenet.stanford.edu/internal/car196/cars_annos.mat\n",
    "# !wget http://imagenet.stanford.edu/internal/car196/car_ims.tgz\n",
    "##!sudo apt-get install tar\n",
    "# !tar xvzf car_ims.tgz"
   ]
  },
  {
   "cell_type": "markdown",
   "metadata": {},
   "source": [
    "### LOADING DATA"
   ]
  },
  {
   "cell_type": "code",
   "execution_count": 6,
   "metadata": {
    "ExecuteTime": {
     "end_time": "2019-06-15T15:29:13.838044Z",
     "start_time": "2019-06-15T15:29:12.725850Z"
    }
   },
   "outputs": [
    {
     "name": "stdout",
     "output_type": "stream",
     "text": [
      "Traceback (most recent call last):\n",
      "  File \"/media/danish/Data/anaconda/envs/tf/lib/python3.6/site-packages/scipy/io/matlab/mio.py\", line 31, in _open_file\n",
      "    return open(file_like, 'rb'), True\n",
      "FileNotFoundError: [Errno 2] No such file or directory: './cars_annos.mat'\n",
      "\n",
      "During handling of the above exception, another exception occurred:\n",
      "\n",
      "Traceback (most recent call last):\n",
      "  File \"generate_csv.py\", line 4, in <module>\n",
      "    data = scipy.io.loadmat('./cars_annos.mat')\n",
      "  File \"/media/danish/Data/anaconda/envs/tf/lib/python3.6/site-packages/scipy/io/matlab/mio.py\", line 207, in loadmat\n",
      "    MR, file_opened = mat_reader_factory(file_name, appendmat, **kwargs)\n",
      "  File \"/media/danish/Data/anaconda/envs/tf/lib/python3.6/site-packages/scipy/io/matlab/mio.py\", line 62, in mat_reader_factory\n",
      "    byte_stream, file_opened = _open_file(file_name, appendmat)\n",
      "  File \"/media/danish/Data/anaconda/envs/tf/lib/python3.6/site-packages/scipy/io/matlab/mio.py\", line 37, in _open_file\n",
      "    return open(file_like, 'rb'), True\n",
      "FileNotFoundError: [Errno 2] No such file or directory: './cars_annos.mat'\n"
     ]
    }
   ],
   "source": [
    "!python generate_csv.py"
   ]
  },
  {
   "cell_type": "code",
   "execution_count": 7,
   "metadata": {
    "ExecuteTime": {
     "end_time": "2019-06-15T15:29:14.108707Z",
     "start_time": "2019-06-15T15:29:13.842941Z"
    }
   },
   "outputs": [],
   "source": [
    "img_path = Path('./')"
   ]
  },
  {
   "cell_type": "code",
   "execution_count": 8,
   "metadata": {
    "ExecuteTime": {
     "end_time": "2019-06-15T15:29:15.910535Z",
     "start_time": "2019-06-15T15:29:14.110024Z"
    }
   },
   "outputs": [
    {
     "ename": "FileNotFoundError",
     "evalue": "[Errno 2] No such file or directory: './cars_annos.mat'",
     "output_type": "error",
     "traceback": [
      "\u001b[0;31m---------------------------------------------------------------------------\u001b[0m",
      "\u001b[0;31mFileNotFoundError\u001b[0m                         Traceback (most recent call last)",
      "\u001b[0;32m/media/danish/Data/anaconda/envs/tf/lib/python3.6/site-packages/scipy/io/matlab/mio.py\u001b[0m in \u001b[0;36m_open_file\u001b[0;34m(file_like, appendmat)\u001b[0m\n\u001b[1;32m     30\u001b[0m     \u001b[0;32mtry\u001b[0m\u001b[0;34m:\u001b[0m\u001b[0;34m\u001b[0m\u001b[0;34m\u001b[0m\u001b[0m\n\u001b[0;32m---> 31\u001b[0;31m         \u001b[0;32mreturn\u001b[0m \u001b[0mopen\u001b[0m\u001b[0;34m(\u001b[0m\u001b[0mfile_like\u001b[0m\u001b[0;34m,\u001b[0m \u001b[0;34m'rb'\u001b[0m\u001b[0;34m)\u001b[0m\u001b[0;34m,\u001b[0m \u001b[0;32mTrue\u001b[0m\u001b[0;34m\u001b[0m\u001b[0;34m\u001b[0m\u001b[0m\n\u001b[0m\u001b[1;32m     32\u001b[0m     \u001b[0;32mexcept\u001b[0m \u001b[0mIOError\u001b[0m\u001b[0;34m:\u001b[0m\u001b[0;34m\u001b[0m\u001b[0;34m\u001b[0m\u001b[0m\n",
      "\u001b[0;31mFileNotFoundError\u001b[0m: [Errno 2] No such file or directory: './cars_annos.mat'",
      "\nDuring handling of the above exception, another exception occurred:\n",
      "\u001b[0;31mFileNotFoundError\u001b[0m                         Traceback (most recent call last)",
      "\u001b[0;32m<ipython-input-8-ca447f7edf93>\u001b[0m in \u001b[0;36m<module>\u001b[0;34m\u001b[0m\n\u001b[0;32m----> 1\u001b[0;31m \u001b[0mdata\u001b[0m \u001b[0;34m=\u001b[0m \u001b[0mscipy\u001b[0m\u001b[0;34m.\u001b[0m\u001b[0mio\u001b[0m\u001b[0;34m.\u001b[0m\u001b[0mloadmat\u001b[0m\u001b[0;34m(\u001b[0m\u001b[0;34m'./cars_annos.mat'\u001b[0m\u001b[0;34m)\u001b[0m\u001b[0;34m\u001b[0m\u001b[0;34m\u001b[0m\u001b[0m\n\u001b[0m\u001b[1;32m      2\u001b[0m \u001b[0mclasses\u001b[0m \u001b[0;34m=\u001b[0m \u001b[0;34m{\u001b[0m\u001b[0mi\u001b[0m\u001b[0;34m:\u001b[0m\u001b[0mdata\u001b[0m\u001b[0;34m[\u001b[0m\u001b[0;34m'class_names'\u001b[0m\u001b[0;34m]\u001b[0m\u001b[0;34m[\u001b[0m\u001b[0;36m0\u001b[0m\u001b[0;34m]\u001b[0m\u001b[0;34m[\u001b[0m\u001b[0mi\u001b[0m\u001b[0;34m]\u001b[0m\u001b[0;34m[\u001b[0m\u001b[0;36m0\u001b[0m\u001b[0;34m]\u001b[0m \u001b[0;32mfor\u001b[0m \u001b[0mi\u001b[0m \u001b[0;32min\u001b[0m \u001b[0mrange\u001b[0m\u001b[0;34m(\u001b[0m\u001b[0mdata\u001b[0m\u001b[0;34m[\u001b[0m\u001b[0;34m'class_names'\u001b[0m\u001b[0;34m]\u001b[0m\u001b[0;34m.\u001b[0m\u001b[0mshape\u001b[0m\u001b[0;34m[\u001b[0m\u001b[0;36m1\u001b[0m\u001b[0;34m]\u001b[0m\u001b[0;34m)\u001b[0m\u001b[0;34m}\u001b[0m\u001b[0;34m\u001b[0m\u001b[0;34m\u001b[0m\u001b[0m\n",
      "\u001b[0;32m/media/danish/Data/anaconda/envs/tf/lib/python3.6/site-packages/scipy/io/matlab/mio.py\u001b[0m in \u001b[0;36mloadmat\u001b[0;34m(file_name, mdict, appendmat, **kwargs)\u001b[0m\n\u001b[1;32m    205\u001b[0m     \"\"\"\n\u001b[1;32m    206\u001b[0m     \u001b[0mvariable_names\u001b[0m \u001b[0;34m=\u001b[0m \u001b[0mkwargs\u001b[0m\u001b[0;34m.\u001b[0m\u001b[0mpop\u001b[0m\u001b[0;34m(\u001b[0m\u001b[0;34m'variable_names'\u001b[0m\u001b[0;34m,\u001b[0m \u001b[0;32mNone\u001b[0m\u001b[0;34m)\u001b[0m\u001b[0;34m\u001b[0m\u001b[0;34m\u001b[0m\u001b[0m\n\u001b[0;32m--> 207\u001b[0;31m     \u001b[0mMR\u001b[0m\u001b[0;34m,\u001b[0m \u001b[0mfile_opened\u001b[0m \u001b[0;34m=\u001b[0m \u001b[0mmat_reader_factory\u001b[0m\u001b[0;34m(\u001b[0m\u001b[0mfile_name\u001b[0m\u001b[0;34m,\u001b[0m \u001b[0mappendmat\u001b[0m\u001b[0;34m,\u001b[0m \u001b[0;34m**\u001b[0m\u001b[0mkwargs\u001b[0m\u001b[0;34m)\u001b[0m\u001b[0;34m\u001b[0m\u001b[0;34m\u001b[0m\u001b[0m\n\u001b[0m\u001b[1;32m    208\u001b[0m     \u001b[0mmatfile_dict\u001b[0m \u001b[0;34m=\u001b[0m \u001b[0mMR\u001b[0m\u001b[0;34m.\u001b[0m\u001b[0mget_variables\u001b[0m\u001b[0;34m(\u001b[0m\u001b[0mvariable_names\u001b[0m\u001b[0;34m)\u001b[0m\u001b[0;34m\u001b[0m\u001b[0;34m\u001b[0m\u001b[0m\n\u001b[1;32m    209\u001b[0m     \u001b[0;32mif\u001b[0m \u001b[0mmdict\u001b[0m \u001b[0;32mis\u001b[0m \u001b[0;32mnot\u001b[0m \u001b[0;32mNone\u001b[0m\u001b[0;34m:\u001b[0m\u001b[0;34m\u001b[0m\u001b[0;34m\u001b[0m\u001b[0m\n",
      "\u001b[0;32m/media/danish/Data/anaconda/envs/tf/lib/python3.6/site-packages/scipy/io/matlab/mio.py\u001b[0m in \u001b[0;36mmat_reader_factory\u001b[0;34m(file_name, appendmat, **kwargs)\u001b[0m\n\u001b[1;32m     60\u001b[0m \u001b[0;34m\u001b[0m\u001b[0m\n\u001b[1;32m     61\u001b[0m     \"\"\"\n\u001b[0;32m---> 62\u001b[0;31m     \u001b[0mbyte_stream\u001b[0m\u001b[0;34m,\u001b[0m \u001b[0mfile_opened\u001b[0m \u001b[0;34m=\u001b[0m \u001b[0m_open_file\u001b[0m\u001b[0;34m(\u001b[0m\u001b[0mfile_name\u001b[0m\u001b[0;34m,\u001b[0m \u001b[0mappendmat\u001b[0m\u001b[0;34m)\u001b[0m\u001b[0;34m\u001b[0m\u001b[0;34m\u001b[0m\u001b[0m\n\u001b[0m\u001b[1;32m     63\u001b[0m     \u001b[0mmjv\u001b[0m\u001b[0;34m,\u001b[0m \u001b[0mmnv\u001b[0m \u001b[0;34m=\u001b[0m \u001b[0mget_matfile_version\u001b[0m\u001b[0;34m(\u001b[0m\u001b[0mbyte_stream\u001b[0m\u001b[0;34m)\u001b[0m\u001b[0;34m\u001b[0m\u001b[0;34m\u001b[0m\u001b[0m\n\u001b[1;32m     64\u001b[0m     \u001b[0;32mif\u001b[0m \u001b[0mmjv\u001b[0m \u001b[0;34m==\u001b[0m \u001b[0;36m0\u001b[0m\u001b[0;34m:\u001b[0m\u001b[0;34m\u001b[0m\u001b[0;34m\u001b[0m\u001b[0m\n",
      "\u001b[0;32m/media/danish/Data/anaconda/envs/tf/lib/python3.6/site-packages/scipy/io/matlab/mio.py\u001b[0m in \u001b[0;36m_open_file\u001b[0;34m(file_like, appendmat)\u001b[0m\n\u001b[1;32m     35\u001b[0m             \u001b[0;32mif\u001b[0m \u001b[0mappendmat\u001b[0m \u001b[0;32mand\u001b[0m \u001b[0;32mnot\u001b[0m \u001b[0mfile_like\u001b[0m\u001b[0;34m.\u001b[0m\u001b[0mendswith\u001b[0m\u001b[0;34m(\u001b[0m\u001b[0;34m'.mat'\u001b[0m\u001b[0;34m)\u001b[0m\u001b[0;34m:\u001b[0m\u001b[0;34m\u001b[0m\u001b[0;34m\u001b[0m\u001b[0m\n\u001b[1;32m     36\u001b[0m                 \u001b[0mfile_like\u001b[0m \u001b[0;34m+=\u001b[0m \u001b[0;34m'.mat'\u001b[0m\u001b[0;34m\u001b[0m\u001b[0;34m\u001b[0m\u001b[0m\n\u001b[0;32m---> 37\u001b[0;31m             \u001b[0;32mreturn\u001b[0m \u001b[0mopen\u001b[0m\u001b[0;34m(\u001b[0m\u001b[0mfile_like\u001b[0m\u001b[0;34m,\u001b[0m \u001b[0;34m'rb'\u001b[0m\u001b[0;34m)\u001b[0m\u001b[0;34m,\u001b[0m \u001b[0;32mTrue\u001b[0m\u001b[0;34m\u001b[0m\u001b[0;34m\u001b[0m\u001b[0m\n\u001b[0m\u001b[1;32m     38\u001b[0m         \u001b[0;32melse\u001b[0m\u001b[0;34m:\u001b[0m\u001b[0;34m\u001b[0m\u001b[0;34m\u001b[0m\u001b[0m\n\u001b[1;32m     39\u001b[0m             \u001b[0;32mraise\u001b[0m \u001b[0mIOError\u001b[0m\u001b[0;34m(\u001b[0m\u001b[0;34m'Reader needs file name or open file-like object'\u001b[0m\u001b[0;34m)\u001b[0m\u001b[0;34m\u001b[0m\u001b[0;34m\u001b[0m\u001b[0m\n",
      "\u001b[0;31mFileNotFoundError\u001b[0m: [Errno 2] No such file or directory: './cars_annos.mat'"
     ]
    }
   ],
   "source": [
    "data = scipy.io.loadmat('./cars_annos.mat')\n",
    "classes = {i:data['class_names'][0][i][0] for i in range(data['class_names'].shape[1])}"
   ]
  },
  {
   "cell_type": "code",
   "execution_count": null,
   "metadata": {
    "ExecuteTime": {
     "end_time": "2019-06-15T15:29:15.912618Z",
     "start_time": "2019-06-15T15:28:06.742Z"
    }
   },
   "outputs": [],
   "source": [
    "train_data = pd.read_csv('train.csv')\n",
    "test_data = pd.read_csv('test.csv')"
   ]
  },
  {
   "cell_type": "code",
   "execution_count": null,
   "metadata": {
    "ExecuteTime": {
     "end_time": "2019-06-15T15:29:15.913408Z",
     "start_time": "2019-06-15T15:28:07.341Z"
    }
   },
   "outputs": [],
   "source": [
    "train_data.target -=1\n",
    "test_data.target -=1"
   ]
  },
  {
   "cell_type": "code",
   "execution_count": null,
   "metadata": {
    "ExecuteTime": {
     "end_time": "2019-06-15T15:29:15.914249Z",
     "start_time": "2019-06-15T15:28:07.687Z"
    }
   },
   "outputs": [],
   "source": [
    "train_data.head()"
   ]
  },
  {
   "cell_type": "code",
   "execution_count": null,
   "metadata": {
    "ExecuteTime": {
     "end_time": "2019-06-15T15:29:15.915060Z",
     "start_time": "2019-06-15T15:28:07.875Z"
    }
   },
   "outputs": [],
   "source": [
    "train_data.target.hist()"
   ]
  },
  {
   "cell_type": "code",
   "execution_count": null,
   "metadata": {
    "ExecuteTime": {
     "end_time": "2019-06-15T15:29:15.915856Z",
     "start_time": "2019-06-15T15:28:08.355Z"
    }
   },
   "outputs": [],
   "source": [
    "name_label={v:k for k,v in classes.items()}"
   ]
  },
  {
   "cell_type": "code",
   "execution_count": null,
   "metadata": {
    "ExecuteTime": {
     "end_time": "2019-06-15T15:29:15.916621Z",
     "start_time": "2019-06-15T15:28:08.645Z"
    }
   },
   "outputs": [],
   "source": [
    "def to_ohe(label,num_classes=7):\n",
    "    return np.array(K.utils.to_categorical(label,num_classes=num_classes))"
   ]
  },
  {
   "cell_type": "code",
   "execution_count": null,
   "metadata": {
    "ExecuteTime": {
     "end_time": "2019-06-15T15:29:15.917459Z",
     "start_time": "2019-06-15T15:28:08.836Z"
    }
   },
   "outputs": [],
   "source": [
    "plot_batch_img(img_path,train_data,classes,batch=30)"
   ]
  },
  {
   "cell_type": "code",
   "execution_count": null,
   "metadata": {
    "ExecuteTime": {
     "end_time": "2019-06-15T15:29:15.918319Z",
     "start_time": "2019-06-15T15:28:09.406Z"
    }
   },
   "outputs": [],
   "source": [
    "## Splitting data into train and validation set\n",
    "train_data,valid_data = train_test_split(train_data,test_size=0.1,random_state=SEED)\n",
    "train_data.shape,valid_data.shape"
   ]
  },
  {
   "cell_type": "markdown",
   "metadata": {},
   "source": [
    "### GENERATOR"
   ]
  },
  {
   "cell_type": "code",
   "execution_count": null,
   "metadata": {
    "ExecuteTime": {
     "end_time": "2019-06-15T15:29:15.919184Z",
     "start_time": "2019-06-15T15:28:10.954Z"
    }
   },
   "outputs": [],
   "source": [
    "from albumentations import (HorizontalFlip, IAAPerspective, ShiftScaleRotate,\n",
    "                            CLAHE, RandomRotate90, Transpose, ShiftScaleRotate,\n",
    "                            Blur, OpticalDistortion, GridDistortion,\n",
    "                            HueSaturationValue, IAAAdditiveGaussianNoise,\n",
    "                            GaussNoise, MotionBlur, MedianBlur,\n",
    "                            IAAPiecewiseAffine, IAASharpen, IAAEmboss,\n",
    "                            RandomBrightnessContrast, Flip, OneOf, Compose)\n",
    "\n",
    "\n",
    "def randomAugment(p=0.7):\n",
    "    return Compose([\n",
    "        HorizontalFlip(p=0.5),\n",
    "        Rotate(limit=(-30,30), p=0.5),\n",
    "        HueSaturationValue(p=0.2),\n",
    "        OneOf([\n",
    "            IAAAdditiveGaussianNoise(),\n",
    "            GaussNoise(),\n",
    "        ], p=0.2),\n",
    "        OneOf([\n",
    "            MedianBlur(blur_limit=3, p=0.3),\n",
    "            Blur(blur_limit=3, p=0.3),\n",
    "        ], p=0.3),\n",
    "        OneOf([\n",
    "            CLAHE(clip_limit=2),\n",
    "            IAASharpen(),\n",
    "            IAAEmboss(),\n",
    "            RandomBrightnessContrast(),\n",
    "        ], p=0.3),\n",
    "    ], p=p)"
   ]
  },
  {
   "cell_type": "code",
   "execution_count": null,
   "metadata": {
    "ExecuteTime": {
     "end_time": "2019-06-15T15:29:15.919981Z",
     "start_time": "2019-06-15T15:28:13.384Z"
    }
   },
   "outputs": [],
   "source": [
    "def load_img(path):\n",
    "    '''Load, Resize and Convert image from BGR format to RGB format'''\n",
    "    img = cv2.imread(path)\n",
    "    img = cv2.resize(img, (input_size, input_size))\n",
    "    img = cv2.cvtColor(img, cv2.COLOR_BGR2RGB)\n",
    "    return img"
   ]
  },
  {
   "cell_type": "code",
   "execution_count": null,
   "metadata": {
    "ExecuteTime": {
     "end_time": "2019-06-15T15:29:15.920799Z",
     "start_time": "2019-06-15T15:28:13.910Z"
    }
   },
   "outputs": [],
   "source": [
    "#Input size of the model\n",
    "input_size=224"
   ]
  },
  {
   "cell_type": "code",
   "execution_count": null,
   "metadata": {
    "ExecuteTime": {
     "end_time": "2019-06-15T15:29:15.921610Z",
     "start_time": "2019-06-15T15:28:14.662Z"
    }
   },
   "outputs": [],
   "source": [
    "class DataGenerator(Sequence):\n",
    "    '''Generate batch of images and target'''\n",
    "    def __init__(self,df, bs,is_valid=False):\n",
    "        '''Initialize the Generator class\n",
    "        Parameters :\n",
    "            df : DataFrame, containing names and target value of images\n",
    "            bs : int , batch size\n",
    "            is_valid : Bool, Flag for applying data augmentation \n",
    "        '''\n",
    "    def __init__(self, df, bs, is_valid=False):\n",
    "        self.df = df\n",
    "        self.bs = bs\n",
    "        self.is_valid = is_valid \n",
    "        self.augmentation = randomAugment(p=0.7)\n",
    "        \n",
    "    def __len__(self) :\n",
    "        '''Return the length of the data'''\n",
    "        return np.ceil(self.df.shape[0] / self.bs).astype(int)\n",
    "\n",
    "    def on_epoch_end(self):\n",
    "        '''Updates indexes after each epoch'''\n",
    "        if self.is_valid == False:\n",
    "            self.df = shuffle(self.df, random_state=SEED)\n",
    "            self.df.reset_index(inplace=True, drop=True)\n",
    "\n",
    "    def set_bs(self,new_bs) :\n",
    "        '''Change the batch size by by passing new batch size'''\n",
    "        self.bs=new_bs\n",
    "    \n",
    "    def __getitem__(self, idx):\n",
    "        '''Generate batch of images and target'''\n",
    "        x_batch, y_batch = [], []\n",
    "        start = idx * self.bs\n",
    "        end = (idx + 1) * self.bs\n",
    "        ids_train_batch = self.df.filename[start:end].values\n",
    "        labels = self.df.target[start:end].values\n",
    "        for i, ids in enumerate(ids_train_batch):\n",
    "            img = load_img(str(img_path / ids))\n",
    "            target = to_ohe(labels[i],196)\n",
    "            ## Augmentation\n",
    "            if not self.is_valid:\n",
    "                img = self.augmentation(image=(img).astype(np.uint8))['image']\n",
    "            x_batch.append(img)\n",
    "            y_batch.append(target)\n",
    "        x_batch = np.array(x_batch, np.float32) / 255.\n",
    "        y_batch = np.array(y_batch, np.float32)\n",
    "\n",
    "        return x_batch, y_batch\n",
    "        "
   ]
  },
  {
   "cell_type": "code",
   "execution_count": null,
   "metadata": {
    "ExecuteTime": {
     "end_time": "2019-06-15T15:29:15.922363Z",
     "start_time": "2019-06-15T15:28:15.343Z"
    }
   },
   "outputs": [],
   "source": [
    "bs = 16"
   ]
  },
  {
   "cell_type": "code",
   "execution_count": null,
   "metadata": {
    "ExecuteTime": {
     "end_time": "2019-06-15T15:29:15.923220Z",
     "start_time": "2019-06-15T15:28:16.030Z"
    }
   },
   "outputs": [],
   "source": [
    "train_generator = DataGenerator(train_data,bs,False)\n",
    "valid_generator = DataGenerator(valid_data,bs,True)"
   ]
  },
  {
   "cell_type": "code",
   "execution_count": null,
   "metadata": {
    "ExecuteTime": {
     "end_time": "2019-06-15T15:29:15.924156Z",
     "start_time": "2019-06-15T15:28:16.517Z"
    }
   },
   "outputs": [],
   "source": [
    "l = valid_generator.__getitem__(5)\n",
    "l[0].shape,l[1].shape"
   ]
  },
  {
   "cell_type": "markdown",
   "metadata": {},
   "source": [
    "### METRICS"
   ]
  },
  {
   "cell_type": "code",
   "execution_count": 1,
   "metadata": {
    "ExecuteTime": {
     "end_time": "2019-06-14T06:04:56.925794Z",
     "start_time": "2019-06-14T06:04:56.920388Z"
    }
   },
   "outputs": [],
   "source": [
    "def precision(y_true, y_pred,thresh=0.2):\n",
    "    '''Computes the precision between predictions and ground truth'''\n",
    "#     y_pred = float(y_pred>thresh)\n",
    "#     y_true = float(y_true)\n",
    "    true_positive = tf.reduce_sum(y_pred*y_true,axis=1)\n",
    "    precision = true_positive / (tf.reduce_sum(y_pred, axis = 1)+eps)\n",
    "    return tf.reduce_mean(precision)\n",
    "\n",
    "def recall(y_true, y_pred,thresh=0.2):\n",
    "    '''Computes the recall between predictions and ground truth'''\n",
    "#     y_pred = float(y_pred>thresh)\n",
    "#     y_true = float(y_true)\n",
    "    true_positive = tf.reduce_sum(y_pred*y_true,axis=1)\n",
    "    recall = true_positive /  (tf.reduce_sum(y_true, axis = 1)+eps)\n",
    "    return tf.reduce_mean(recall)"
   ]
  },
  {
   "cell_type": "code",
   "execution_count": 2,
   "metadata": {
    "ExecuteTime": {
     "end_time": "2019-06-14T06:04:57.126838Z",
     "start_time": "2019-06-14T06:04:57.119259Z"
    }
   },
   "outputs": [],
   "source": [
    "def fbeta(y_true, y_pred, thresh=0.2, beta=2, eps=1e-9):\n",
    "    '''Computes the fbeta between predictions and ground truth'''\n",
    "    beta2 = beta ** 2\n",
    "#     y_pred = float(y_pred>thresh)\n",
    "#     y_true = float(y_true)\n",
    "    true_positive = tf.reduce_sum(y_pred*y_true,axis=1)\n",
    "    precision = true_positive / (tf.reduce_sum(y_pred, axis = 1)+eps)\n",
    "    recall = true_positive /  (tf.reduce_sum(y_true, axis = 1)+eps)\n",
    "    result = ((precision*recall)/(precision*beta2+recall+eps))*(1+beta2)\n",
    "    return tf.reduce_mean(result)\n",
    "\n",
    "\n",
    "from sklearn.metrics import fbeta_score\n",
    "from keras import backend as K\n",
    "\n",
    "##https://www.kaggle.com/arsenyinfo/f-beta-score-for-keras\n",
    "def fbeta(y_true, y_pred, threshold_shift=0):\n",
    "    beta = 2\n",
    "\n",
    "    # just in case of hipster activation at the final layer\n",
    "    y_pred = K.clip(y_pred, 0, 1)\n",
    "\n",
    "    # shifting the prediction threshold from .5 if needed\n",
    "    y_pred_bin = K.round(y_pred + threshold_shift)\n",
    "\n",
    "    tp = K.sum(K.round(y_true * y_pred_bin)) + K.epsilon()\n",
    "    fp = K.sum(K.round(K.clip(y_pred_bin - y_true, 0, 1)))\n",
    "    fn = K.sum(K.round(K.clip(y_true - y_pred, 0, 1)))\n",
    "\n",
    "    precision = tp / (tp + fp)\n",
    "    recall = tp / (tp + fn)\n",
    "\n",
    "    beta_squared = beta ** 2\n",
    "    result = (beta_squared + 1) * (precision * recall) / (beta_squared * precision + recall + K.epsilon())\n",
    "    return tf.reduce_mean(result)\n",
    "\n",
    "y_true, y_pred = np.round(np.random.rand(100)), np.random.rand(100)\n",
    "\n",
    "fbeta_keras = fbeta(K.variable(y_true), K.variable(y_pred)).eval(session=K.get_session())\n",
    "fbeta_sklearn = fbeta_score(y_true, np.round(y_pred), beta=2)\n",
    "\n",
    "print('Scores are {:.3f} (sklearn) and {:.3f} (keras)'.format(fbeta_sklearn, fbeta_keras))\n"
   ]
  },
  {
   "cell_type": "markdown",
   "metadata": {},
   "source": [
    "### MODEL"
   ]
  },
  {
   "cell_type": "code",
   "execution_count": 51,
   "metadata": {
    "ExecuteTime": {
     "end_time": "2019-06-11T17:20:32.308201Z",
     "start_time": "2019-06-11T17:20:32.075779Z"
    }
   },
   "outputs": [],
   "source": [
    "input_size=224\n",
    "numclass=196"
   ]
  },
  {
   "cell_type": "code",
   "execution_count": 52,
   "metadata": {
    "ExecuteTime": {
     "end_time": "2019-06-11T17:20:32.897067Z",
     "start_time": "2019-06-11T17:20:32.641579Z"
    }
   },
   "outputs": [],
   "source": [
    "def get_model():\n",
    "    #Pretrained Xception network without head\n",
    "    pretrained_model = K.applications.Xception(\n",
    "        weights=\"imagenet\",\n",
    "        input_tensor=k.layers.Input(shape=(input_size, input_size, 3),\n",
    "                                    name='feature'),\n",
    "        include_top=False)\n",
    "    #Freezing the body of the network\n",
    "    for layer in pretrained_model.layers:\n",
    "        layer.trainable = False\n",
    "    #Head of the model\n",
    "    x = pretrained_model.output\n",
    "    x = k.layers.GlobalAveragePooling2D()(x)\n",
    "    x = k.layers.Dense(512,name='head_dense',kernel_initializer=k.initializers.he_normal(10))(x)\n",
    "    x = K.layers.BatchNormalization()(x)\n",
    "    x = K.layers.ReLU()(x)\n",
    "    output = k.layers.Dense(numclass,\n",
    "                            name='predictions',\n",
    "                            activation='softmax',\n",
    "                            kernel_initializer=k.initializers.he_normal(10))(x)\n",
    "    model = k.Model(inputs=pretrained_model.input,\n",
    "                    outputs=output,\n",
    "                    name='Classification_Network')\n",
    "\n",
    "    return model"
   ]
  },
  {
   "cell_type": "code",
   "execution_count": 53,
   "metadata": {
    "ExecuteTime": {
     "end_time": "2019-06-11T17:20:39.432426Z",
     "start_time": "2019-06-11T17:20:33.222152Z"
    }
   },
   "outputs": [
    {
     "name": "stdout",
     "output_type": "stream",
     "text": [
      "______________________________________________________________________________________________________________\n",
      "Layer (type)                        Output Shape            Param #      Connected to                         \n",
      "==============================================================================================================\n",
      "feature (InputLayer)                (None, 224, 224, 3)     0                                                 \n",
      "______________________________________________________________________________________________________________\n",
      "block1_conv1 (Conv2D)               (None, 111, 111, 32)    864          feature[0][0]                        \n",
      "______________________________________________________________________________________________________________\n",
      "block1_conv1_bn (BatchNormalization (None, 111, 111, 32)    128          block1_conv1[0][0]                   \n",
      "______________________________________________________________________________________________________________\n",
      "block1_conv1_act (Activation)       (None, 111, 111, 32)    0            block1_conv1_bn[0][0]                \n",
      "______________________________________________________________________________________________________________\n",
      "block1_conv2 (Conv2D)               (None, 109, 109, 64)    18432        block1_conv1_act[0][0]               \n",
      "______________________________________________________________________________________________________________\n",
      "block1_conv2_bn (BatchNormalization (None, 109, 109, 64)    256          block1_conv2[0][0]                   \n",
      "______________________________________________________________________________________________________________\n",
      "block1_conv2_act (Activation)       (None, 109, 109, 64)    0            block1_conv2_bn[0][0]                \n",
      "______________________________________________________________________________________________________________\n",
      "block2_sepconv1 (SeparableConv2D)   (None, 109, 109, 128)   8768         block1_conv2_act[0][0]               \n",
      "______________________________________________________________________________________________________________\n",
      "block2_sepconv1_bn (BatchNormalizat (None, 109, 109, 128)   512          block2_sepconv1[0][0]                \n",
      "______________________________________________________________________________________________________________\n",
      "block2_sepconv2_act (Activation)    (None, 109, 109, 128)   0            block2_sepconv1_bn[0][0]             \n",
      "______________________________________________________________________________________________________________\n",
      "block2_sepconv2 (SeparableConv2D)   (None, 109, 109, 128)   17536        block2_sepconv2_act[0][0]            \n",
      "______________________________________________________________________________________________________________\n",
      "block2_sepconv2_bn (BatchNormalizat (None, 109, 109, 128)   512          block2_sepconv2[0][0]                \n",
      "______________________________________________________________________________________________________________\n",
      "conv2d_8 (Conv2D)                   (None, 55, 55, 128)     8192         block1_conv2_act[0][0]               \n",
      "______________________________________________________________________________________________________________\n",
      "block2_pool (MaxPooling2D)          (None, 55, 55, 128)     0            block2_sepconv2_bn[0][0]             \n",
      "______________________________________________________________________________________________________________\n",
      "batch_normalization_v1_8 (BatchNorm (None, 55, 55, 128)     512          conv2d_8[0][0]                       \n",
      "______________________________________________________________________________________________________________\n",
      "add_24 (Add)                        (None, 55, 55, 128)     0            block2_pool[0][0]                    \n",
      "                                                                         batch_normalization_v1_8[0][0]       \n",
      "______________________________________________________________________________________________________________\n",
      "block3_sepconv1_act (Activation)    (None, 55, 55, 128)     0            add_24[0][0]                         \n",
      "______________________________________________________________________________________________________________\n",
      "block3_sepconv1 (SeparableConv2D)   (None, 55, 55, 256)     33920        block3_sepconv1_act[0][0]            \n",
      "______________________________________________________________________________________________________________\n",
      "block3_sepconv1_bn (BatchNormalizat (None, 55, 55, 256)     1024         block3_sepconv1[0][0]                \n",
      "______________________________________________________________________________________________________________\n",
      "block3_sepconv2_act (Activation)    (None, 55, 55, 256)     0            block3_sepconv1_bn[0][0]             \n",
      "______________________________________________________________________________________________________________\n",
      "block3_sepconv2 (SeparableConv2D)   (None, 55, 55, 256)     67840        block3_sepconv2_act[0][0]            \n",
      "______________________________________________________________________________________________________________\n",
      "block3_sepconv2_bn (BatchNormalizat (None, 55, 55, 256)     1024         block3_sepconv2[0][0]                \n",
      "______________________________________________________________________________________________________________\n",
      "conv2d_9 (Conv2D)                   (None, 28, 28, 256)     32768        add_24[0][0]                         \n",
      "______________________________________________________________________________________________________________\n",
      "block3_pool (MaxPooling2D)          (None, 28, 28, 256)     0            block3_sepconv2_bn[0][0]             \n",
      "______________________________________________________________________________________________________________\n",
      "batch_normalization_v1_9 (BatchNorm (None, 28, 28, 256)     1024         conv2d_9[0][0]                       \n",
      "______________________________________________________________________________________________________________\n",
      "add_25 (Add)                        (None, 28, 28, 256)     0            block3_pool[0][0]                    \n",
      "                                                                         batch_normalization_v1_9[0][0]       \n",
      "______________________________________________________________________________________________________________\n",
      "block4_sepconv1_act (Activation)    (None, 28, 28, 256)     0            add_25[0][0]                         \n",
      "______________________________________________________________________________________________________________\n",
      "block4_sepconv1 (SeparableConv2D)   (None, 28, 28, 728)     188672       block4_sepconv1_act[0][0]            \n",
      "______________________________________________________________________________________________________________\n",
      "block4_sepconv1_bn (BatchNormalizat (None, 28, 28, 728)     2912         block4_sepconv1[0][0]                \n",
      "______________________________________________________________________________________________________________\n",
      "block4_sepconv2_act (Activation)    (None, 28, 28, 728)     0            block4_sepconv1_bn[0][0]             \n",
      "______________________________________________________________________________________________________________\n",
      "block4_sepconv2 (SeparableConv2D)   (None, 28, 28, 728)     536536       block4_sepconv2_act[0][0]            \n",
      "______________________________________________________________________________________________________________\n",
      "block4_sepconv2_bn (BatchNormalizat (None, 28, 28, 728)     2912         block4_sepconv2[0][0]                \n",
      "______________________________________________________________________________________________________________\n",
      "conv2d_10 (Conv2D)                  (None, 14, 14, 728)     186368       add_25[0][0]                         \n",
      "______________________________________________________________________________________________________________\n",
      "block4_pool (MaxPooling2D)          (None, 14, 14, 728)     0            block4_sepconv2_bn[0][0]             \n",
      "______________________________________________________________________________________________________________\n",
      "batch_normalization_v1_10 (BatchNor (None, 14, 14, 728)     2912         conv2d_10[0][0]                      \n",
      "______________________________________________________________________________________________________________\n",
      "add_26 (Add)                        (None, 14, 14, 728)     0            block4_pool[0][0]                    \n",
      "                                                                         batch_normalization_v1_10[0][0]      \n",
      "______________________________________________________________________________________________________________\n",
      "block5_sepconv1_act (Activation)    (None, 14, 14, 728)     0            add_26[0][0]                         \n",
      "______________________________________________________________________________________________________________\n",
      "block5_sepconv1 (SeparableConv2D)   (None, 14, 14, 728)     536536       block5_sepconv1_act[0][0]            \n",
      "______________________________________________________________________________________________________________\n",
      "block5_sepconv1_bn (BatchNormalizat (None, 14, 14, 728)     2912         block5_sepconv1[0][0]                \n",
      "______________________________________________________________________________________________________________\n",
      "block5_sepconv2_act (Activation)    (None, 14, 14, 728)     0            block5_sepconv1_bn[0][0]             \n",
      "______________________________________________________________________________________________________________\n",
      "block5_sepconv2 (SeparableConv2D)   (None, 14, 14, 728)     536536       block5_sepconv2_act[0][0]            \n",
      "______________________________________________________________________________________________________________\n",
      "block5_sepconv2_bn (BatchNormalizat (None, 14, 14, 728)     2912         block5_sepconv2[0][0]                \n",
      "______________________________________________________________________________________________________________\n",
      "block5_sepconv3_act (Activation)    (None, 14, 14, 728)     0            block5_sepconv2_bn[0][0]             \n",
      "______________________________________________________________________________________________________________\n",
      "block5_sepconv3 (SeparableConv2D)   (None, 14, 14, 728)     536536       block5_sepconv3_act[0][0]            \n",
      "______________________________________________________________________________________________________________\n",
      "block5_sepconv3_bn (BatchNormalizat (None, 14, 14, 728)     2912         block5_sepconv3[0][0]                \n",
      "______________________________________________________________________________________________________________\n",
      "add_27 (Add)                        (None, 14, 14, 728)     0            block5_sepconv3_bn[0][0]             \n",
      "                                                                         add_26[0][0]                         \n",
      "______________________________________________________________________________________________________________\n",
      "block6_sepconv1_act (Activation)    (None, 14, 14, 728)     0            add_27[0][0]                         \n",
      "______________________________________________________________________________________________________________\n",
      "block6_sepconv1 (SeparableConv2D)   (None, 14, 14, 728)     536536       block6_sepconv1_act[0][0]            \n",
      "______________________________________________________________________________________________________________\n",
      "block6_sepconv1_bn (BatchNormalizat (None, 14, 14, 728)     2912         block6_sepconv1[0][0]                \n",
      "______________________________________________________________________________________________________________\n",
      "block6_sepconv2_act (Activation)    (None, 14, 14, 728)     0            block6_sepconv1_bn[0][0]             \n",
      "______________________________________________________________________________________________________________\n",
      "block6_sepconv2 (SeparableConv2D)   (None, 14, 14, 728)     536536       block6_sepconv2_act[0][0]            \n",
      "______________________________________________________________________________________________________________\n",
      "block6_sepconv2_bn (BatchNormalizat (None, 14, 14, 728)     2912         block6_sepconv2[0][0]                \n",
      "______________________________________________________________________________________________________________\n",
      "block6_sepconv3_act (Activation)    (None, 14, 14, 728)     0            block6_sepconv2_bn[0][0]             \n",
      "______________________________________________________________________________________________________________\n",
      "block6_sepconv3 (SeparableConv2D)   (None, 14, 14, 728)     536536       block6_sepconv3_act[0][0]            \n",
      "______________________________________________________________________________________________________________\n",
      "block6_sepconv3_bn (BatchNormalizat (None, 14, 14, 728)     2912         block6_sepconv3[0][0]                \n",
      "______________________________________________________________________________________________________________\n",
      "add_28 (Add)                        (None, 14, 14, 728)     0            block6_sepconv3_bn[0][0]             \n",
      "                                                                         add_27[0][0]                         \n",
      "______________________________________________________________________________________________________________\n",
      "block7_sepconv1_act (Activation)    (None, 14, 14, 728)     0            add_28[0][0]                         \n",
      "______________________________________________________________________________________________________________\n",
      "block7_sepconv1 (SeparableConv2D)   (None, 14, 14, 728)     536536       block7_sepconv1_act[0][0]            \n",
      "______________________________________________________________________________________________________________\n",
      "block7_sepconv1_bn (BatchNormalizat (None, 14, 14, 728)     2912         block7_sepconv1[0][0]                \n",
      "______________________________________________________________________________________________________________\n",
      "block7_sepconv2_act (Activation)    (None, 14, 14, 728)     0            block7_sepconv1_bn[0][0]             \n",
      "______________________________________________________________________________________________________________\n",
      "block7_sepconv2 (SeparableConv2D)   (None, 14, 14, 728)     536536       block7_sepconv2_act[0][0]            \n",
      "______________________________________________________________________________________________________________\n",
      "block7_sepconv2_bn (BatchNormalizat (None, 14, 14, 728)     2912         block7_sepconv2[0][0]                \n",
      "______________________________________________________________________________________________________________\n",
      "block7_sepconv3_act (Activation)    (None, 14, 14, 728)     0            block7_sepconv2_bn[0][0]             \n",
      "______________________________________________________________________________________________________________\n",
      "block7_sepconv3 (SeparableConv2D)   (None, 14, 14, 728)     536536       block7_sepconv3_act[0][0]            \n",
      "______________________________________________________________________________________________________________\n",
      "block7_sepconv3_bn (BatchNormalizat (None, 14, 14, 728)     2912         block7_sepconv3[0][0]                \n",
      "______________________________________________________________________________________________________________\n",
      "add_29 (Add)                        (None, 14, 14, 728)     0            block7_sepconv3_bn[0][0]             \n",
      "                                                                         add_28[0][0]                         \n",
      "______________________________________________________________________________________________________________\n",
      "block8_sepconv1_act (Activation)    (None, 14, 14, 728)     0            add_29[0][0]                         \n",
      "______________________________________________________________________________________________________________\n",
      "block8_sepconv1 (SeparableConv2D)   (None, 14, 14, 728)     536536       block8_sepconv1_act[0][0]            \n",
      "______________________________________________________________________________________________________________\n",
      "block8_sepconv1_bn (BatchNormalizat (None, 14, 14, 728)     2912         block8_sepconv1[0][0]                \n",
      "______________________________________________________________________________________________________________\n",
      "block8_sepconv2_act (Activation)    (None, 14, 14, 728)     0            block8_sepconv1_bn[0][0]             \n",
      "______________________________________________________________________________________________________________\n",
      "block8_sepconv2 (SeparableConv2D)   (None, 14, 14, 728)     536536       block8_sepconv2_act[0][0]            \n",
      "______________________________________________________________________________________________________________\n",
      "block8_sepconv2_bn (BatchNormalizat (None, 14, 14, 728)     2912         block8_sepconv2[0][0]                \n",
      "______________________________________________________________________________________________________________\n",
      "block8_sepconv3_act (Activation)    (None, 14, 14, 728)     0            block8_sepconv2_bn[0][0]             \n",
      "______________________________________________________________________________________________________________\n",
      "block8_sepconv3 (SeparableConv2D)   (None, 14, 14, 728)     536536       block8_sepconv3_act[0][0]            \n",
      "______________________________________________________________________________________________________________\n",
      "block8_sepconv3_bn (BatchNormalizat (None, 14, 14, 728)     2912         block8_sepconv3[0][0]                \n",
      "______________________________________________________________________________________________________________\n",
      "add_30 (Add)                        (None, 14, 14, 728)     0            block8_sepconv3_bn[0][0]             \n",
      "                                                                         add_29[0][0]                         \n",
      "______________________________________________________________________________________________________________\n",
      "block9_sepconv1_act (Activation)    (None, 14, 14, 728)     0            add_30[0][0]                         \n",
      "______________________________________________________________________________________________________________\n",
      "block9_sepconv1 (SeparableConv2D)   (None, 14, 14, 728)     536536       block9_sepconv1_act[0][0]            \n",
      "______________________________________________________________________________________________________________\n",
      "block9_sepconv1_bn (BatchNormalizat (None, 14, 14, 728)     2912         block9_sepconv1[0][0]                \n",
      "______________________________________________________________________________________________________________\n",
      "block9_sepconv2_act (Activation)    (None, 14, 14, 728)     0            block9_sepconv1_bn[0][0]             \n",
      "______________________________________________________________________________________________________________\n",
      "block9_sepconv2 (SeparableConv2D)   (None, 14, 14, 728)     536536       block9_sepconv2_act[0][0]            \n",
      "______________________________________________________________________________________________________________\n",
      "block9_sepconv2_bn (BatchNormalizat (None, 14, 14, 728)     2912         block9_sepconv2[0][0]                \n",
      "______________________________________________________________________________________________________________\n",
      "block9_sepconv3_act (Activation)    (None, 14, 14, 728)     0            block9_sepconv2_bn[0][0]             \n",
      "______________________________________________________________________________________________________________\n",
      "block9_sepconv3 (SeparableConv2D)   (None, 14, 14, 728)     536536       block9_sepconv3_act[0][0]            \n",
      "______________________________________________________________________________________________________________\n",
      "block9_sepconv3_bn (BatchNormalizat (None, 14, 14, 728)     2912         block9_sepconv3[0][0]                \n",
      "______________________________________________________________________________________________________________\n",
      "add_31 (Add)                        (None, 14, 14, 728)     0            block9_sepconv3_bn[0][0]             \n",
      "                                                                         add_30[0][0]                         \n",
      "______________________________________________________________________________________________________________\n",
      "block10_sepconv1_act (Activation)   (None, 14, 14, 728)     0            add_31[0][0]                         \n",
      "______________________________________________________________________________________________________________\n",
      "block10_sepconv1 (SeparableConv2D)  (None, 14, 14, 728)     536536       block10_sepconv1_act[0][0]           \n",
      "______________________________________________________________________________________________________________\n",
      "block10_sepconv1_bn (BatchNormaliza (None, 14, 14, 728)     2912         block10_sepconv1[0][0]               \n",
      "______________________________________________________________________________________________________________\n",
      "block10_sepconv2_act (Activation)   (None, 14, 14, 728)     0            block10_sepconv1_bn[0][0]            \n",
      "______________________________________________________________________________________________________________\n",
      "block10_sepconv2 (SeparableConv2D)  (None, 14, 14, 728)     536536       block10_sepconv2_act[0][0]           \n",
      "______________________________________________________________________________________________________________\n",
      "block10_sepconv2_bn (BatchNormaliza (None, 14, 14, 728)     2912         block10_sepconv2[0][0]               \n",
      "______________________________________________________________________________________________________________\n",
      "block10_sepconv3_act (Activation)   (None, 14, 14, 728)     0            block10_sepconv2_bn[0][0]            \n",
      "______________________________________________________________________________________________________________\n",
      "block10_sepconv3 (SeparableConv2D)  (None, 14, 14, 728)     536536       block10_sepconv3_act[0][0]           \n",
      "______________________________________________________________________________________________________________\n",
      "block10_sepconv3_bn (BatchNormaliza (None, 14, 14, 728)     2912         block10_sepconv3[0][0]               \n",
      "______________________________________________________________________________________________________________\n",
      "add_32 (Add)                        (None, 14, 14, 728)     0            block10_sepconv3_bn[0][0]            \n",
      "                                                                         add_31[0][0]                         \n",
      "______________________________________________________________________________________________________________\n",
      "block11_sepconv1_act (Activation)   (None, 14, 14, 728)     0            add_32[0][0]                         \n",
      "______________________________________________________________________________________________________________\n",
      "block11_sepconv1 (SeparableConv2D)  (None, 14, 14, 728)     536536       block11_sepconv1_act[0][0]           \n",
      "______________________________________________________________________________________________________________\n",
      "block11_sepconv1_bn (BatchNormaliza (None, 14, 14, 728)     2912         block11_sepconv1[0][0]               \n",
      "______________________________________________________________________________________________________________\n",
      "block11_sepconv2_act (Activation)   (None, 14, 14, 728)     0            block11_sepconv1_bn[0][0]            \n",
      "______________________________________________________________________________________________________________\n",
      "block11_sepconv2 (SeparableConv2D)  (None, 14, 14, 728)     536536       block11_sepconv2_act[0][0]           \n",
      "______________________________________________________________________________________________________________\n",
      "block11_sepconv2_bn (BatchNormaliza (None, 14, 14, 728)     2912         block11_sepconv2[0][0]               \n",
      "______________________________________________________________________________________________________________\n",
      "block11_sepconv3_act (Activation)   (None, 14, 14, 728)     0            block11_sepconv2_bn[0][0]            \n",
      "______________________________________________________________________________________________________________\n",
      "block11_sepconv3 (SeparableConv2D)  (None, 14, 14, 728)     536536       block11_sepconv3_act[0][0]           \n",
      "______________________________________________________________________________________________________________\n",
      "block11_sepconv3_bn (BatchNormaliza (None, 14, 14, 728)     2912         block11_sepconv3[0][0]               \n",
      "______________________________________________________________________________________________________________\n",
      "add_33 (Add)                        (None, 14, 14, 728)     0            block11_sepconv3_bn[0][0]            \n",
      "                                                                         add_32[0][0]                         \n",
      "______________________________________________________________________________________________________________\n",
      "block12_sepconv1_act (Activation)   (None, 14, 14, 728)     0            add_33[0][0]                         \n",
      "______________________________________________________________________________________________________________\n",
      "block12_sepconv1 (SeparableConv2D)  (None, 14, 14, 728)     536536       block12_sepconv1_act[0][0]           \n",
      "______________________________________________________________________________________________________________\n",
      "block12_sepconv1_bn (BatchNormaliza (None, 14, 14, 728)     2912         block12_sepconv1[0][0]               \n",
      "______________________________________________________________________________________________________________\n",
      "block12_sepconv2_act (Activation)   (None, 14, 14, 728)     0            block12_sepconv1_bn[0][0]            \n",
      "______________________________________________________________________________________________________________\n",
      "block12_sepconv2 (SeparableConv2D)  (None, 14, 14, 728)     536536       block12_sepconv2_act[0][0]           \n",
      "______________________________________________________________________________________________________________\n",
      "block12_sepconv2_bn (BatchNormaliza (None, 14, 14, 728)     2912         block12_sepconv2[0][0]               \n",
      "______________________________________________________________________________________________________________\n",
      "block12_sepconv3_act (Activation)   (None, 14, 14, 728)     0            block12_sepconv2_bn[0][0]            \n",
      "______________________________________________________________________________________________________________\n",
      "block12_sepconv3 (SeparableConv2D)  (None, 14, 14, 728)     536536       block12_sepconv3_act[0][0]           \n",
      "______________________________________________________________________________________________________________\n",
      "block12_sepconv3_bn (BatchNormaliza (None, 14, 14, 728)     2912         block12_sepconv3[0][0]               \n",
      "______________________________________________________________________________________________________________\n",
      "add_34 (Add)                        (None, 14, 14, 728)     0            block12_sepconv3_bn[0][0]            \n",
      "                                                                         add_33[0][0]                         \n",
      "______________________________________________________________________________________________________________\n",
      "block13_sepconv1_act (Activation)   (None, 14, 14, 728)     0            add_34[0][0]                         \n",
      "______________________________________________________________________________________________________________\n",
      "block13_sepconv1 (SeparableConv2D)  (None, 14, 14, 728)     536536       block13_sepconv1_act[0][0]           \n",
      "______________________________________________________________________________________________________________\n",
      "block13_sepconv1_bn (BatchNormaliza (None, 14, 14, 728)     2912         block13_sepconv1[0][0]               \n",
      "______________________________________________________________________________________________________________\n",
      "block13_sepconv2_act (Activation)   (None, 14, 14, 728)     0            block13_sepconv1_bn[0][0]            \n",
      "______________________________________________________________________________________________________________\n",
      "block13_sepconv2 (SeparableConv2D)  (None, 14, 14, 1024)    752024       block13_sepconv2_act[0][0]           \n",
      "______________________________________________________________________________________________________________\n",
      "block13_sepconv2_bn (BatchNormaliza (None, 14, 14, 1024)    4096         block13_sepconv2[0][0]               \n",
      "______________________________________________________________________________________________________________\n",
      "conv2d_11 (Conv2D)                  (None, 7, 7, 1024)      745472       add_34[0][0]                         \n",
      "______________________________________________________________________________________________________________\n",
      "block13_pool (MaxPooling2D)         (None, 7, 7, 1024)      0            block13_sepconv2_bn[0][0]            \n",
      "______________________________________________________________________________________________________________\n",
      "batch_normalization_v1_11 (BatchNor (None, 7, 7, 1024)      4096         conv2d_11[0][0]                      \n",
      "______________________________________________________________________________________________________________\n",
      "add_35 (Add)                        (None, 7, 7, 1024)      0            block13_pool[0][0]                   \n",
      "                                                                         batch_normalization_v1_11[0][0]      \n",
      "______________________________________________________________________________________________________________\n",
      "block14_sepconv1 (SeparableConv2D)  (None, 7, 7, 1536)      1582080      add_35[0][0]                         \n",
      "______________________________________________________________________________________________________________\n",
      "block14_sepconv1_bn (BatchNormaliza (None, 7, 7, 1536)      6144         block14_sepconv1[0][0]               \n",
      "______________________________________________________________________________________________________________\n",
      "block14_sepconv1_act (Activation)   (None, 7, 7, 1536)      0            block14_sepconv1_bn[0][0]            \n",
      "______________________________________________________________________________________________________________\n",
      "block14_sepconv2 (SeparableConv2D)  (None, 7, 7, 2048)      3159552      block14_sepconv1_act[0][0]           \n",
      "______________________________________________________________________________________________________________\n",
      "block14_sepconv2_bn (BatchNormaliza (None, 7, 7, 2048)      8192         block14_sepconv2[0][0]               \n",
      "______________________________________________________________________________________________________________\n",
      "block14_sepconv2_act (Activation)   (None, 7, 7, 2048)      0            block14_sepconv2_bn[0][0]            \n",
      "______________________________________________________________________________________________________________\n",
      "global_average_pooling2d_2 (GlobalA (None, 2048)            0            block14_sepconv2_act[0][0]           \n",
      "______________________________________________________________________________________________________________\n",
      "predictions (Dense)                 (None, 196)             401604       global_average_pooling2d_2[0][0]     \n",
      "==============================================================================================================\n",
      "Total params: 21,263,084\n",
      "Trainable params: 401,604\n",
      "Non-trainable params: 20,861,480\n",
      "______________________________________________________________________________________________________________\n"
     ]
    }
   ],
   "source": [
    "model = get_model()\n",
    "model.summary(110)"
   ]
  },
  {
   "cell_type": "markdown",
   "metadata": {},
   "source": [
    "### TRAINING"
   ]
  },
  {
   "cell_type": "code",
   "execution_count": 54,
   "metadata": {
    "ExecuteTime": {
     "end_time": "2019-06-11T17:20:39.816227Z",
     "start_time": "2019-06-11T17:20:39.434967Z"
    }
   },
   "outputs": [],
   "source": [
    "learning_rate=0.005\n",
    "adam=k.optimizers.Adam(lr=learning_rate)\n",
    "model.compile(optimizer=adam,loss='categorical_crossentropy',metrics=['categorical_accuracy',precision,recall,fbeta])"
   ]
  },
  {
   "cell_type": "code",
   "execution_count": 55,
   "metadata": {
    "ExecuteTime": {
     "end_time": "2019-06-11T17:20:40.040430Z",
     "start_time": "2019-06-11T17:20:39.818354Z"
    }
   },
   "outputs": [],
   "source": [
    "def fit(epoch=2):\n",
    "    model.fit_generator(\n",
    "        generator=train_generator,\n",
    "        steps_per_epoch=int(np.ceil(train_data.shape[0]) / (bs)),\n",
    "        epochs=epoch,verbose=1,\n",
    "        validation_data=valid_generator,\n",
    "        shuffle=True,workers=4,\n",
    "        validation_steps=int(np.ceil(valid_data.shape[0]) / (bs)))"
   ]
  },
  {
   "cell_type": "code",
   "execution_count": 56,
   "metadata": {
    "ExecuteTime": {
     "end_time": "2019-06-11T17:25:13.012272Z",
     "start_time": "2019-06-11T17:20:40.042025Z"
    }
   },
   "outputs": [
    {
     "name": "stdout",
     "output_type": "stream",
     "text": [
      "Epoch 1/3\n",
      "51/51 [==============================] - 7s 143ms/step - loss: 6.8431 - acc: 0.0857\n",
      "453/453 [==============================] - 61s 134ms/step - loss: 5.0432 - acc: 0.1016 - val_loss: 6.8431 - val_acc: 0.0857\n",
      "Epoch 2/3\n",
      "51/51 [==============================] - 10s 204ms/step - loss: 7.7342 - acc: 0.0596\n",
      "453/453 [==============================] - 97s 215ms/step - loss: 2.7988 - acc: 0.3691 - val_loss: 7.7342 - val_acc: 0.0596\n",
      "Epoch 3/3\n",
      "51/51 [==============================] - 11s 213ms/step - loss: 7.5142 - acc: 0.0969\n",
      "453/453 [==============================] - 111s 245ms/step - loss: 1.9847 - acc: 0.5267 - val_loss: 7.5142 - val_acc: 0.0969\n"
     ]
    }
   ],
   "source": [
    "fit(3)"
   ]
  },
  {
   "cell_type": "code",
   "execution_count": 57,
   "metadata": {
    "ExecuteTime": {
     "end_time": "2019-06-11T17:25:18.066369Z",
     "start_time": "2019-06-11T17:25:17.448990Z"
    }
   },
   "outputs": [],
   "source": [
    "for layer in model.layers:\n",
    "    layer.trainable = True\n",
    "lr = 1e-3\n",
    "adam=k.optimizers.Adam(lr=lr)\n",
    "model.compile(optimizer=adam,loss='categorical_crossentropy',metrics=['accuracy'])"
   ]
  },
  {
   "cell_type": "code",
   "execution_count": 58,
   "metadata": {
    "ExecuteTime": {
     "end_time": "2019-06-11T17:30:21.675594Z",
     "start_time": "2019-06-11T17:25:18.069567Z"
    }
   },
   "outputs": [
    {
     "name": "stdout",
     "output_type": "stream",
     "text": [
      "Epoch 1/10\n",
      "296/453 [==================>...........] - ETA: 2:29 - loss: 5.5237 - acc: 0.0072"
     ]
    },
    {
     "ename": "KeyboardInterrupt",
     "evalue": "",
     "output_type": "error",
     "traceback": [
      "\u001b[0;31m---------------------------------------------------------------------------\u001b[0m",
      "\u001b[0;31mKeyboardInterrupt\u001b[0m                         Traceback (most recent call last)",
      "\u001b[0;32m<ipython-input-58-d23ecd296f87>\u001b[0m in \u001b[0;36m<module>\u001b[0;34m\u001b[0m\n\u001b[0;32m----> 1\u001b[0;31m \u001b[0mfit\u001b[0m\u001b[0;34m(\u001b[0m\u001b[0;36m10\u001b[0m\u001b[0;34m)\u001b[0m\u001b[0;34m\u001b[0m\u001b[0;34m\u001b[0m\u001b[0m\n\u001b[0m",
      "\u001b[0;32m<ipython-input-55-e39b4c1978b8>\u001b[0m in \u001b[0;36mfit\u001b[0;34m(epoch)\u001b[0m\n\u001b[1;32m      7\u001b[0m         \u001b[0mvalidation_data\u001b[0m\u001b[0;34m=\u001b[0m\u001b[0mvalid_generator\u001b[0m\u001b[0;34m,\u001b[0m\u001b[0;34m\u001b[0m\u001b[0;34m\u001b[0m\u001b[0m\n\u001b[1;32m      8\u001b[0m         \u001b[0mshuffle\u001b[0m\u001b[0;34m=\u001b[0m\u001b[0;32mTrue\u001b[0m\u001b[0;34m,\u001b[0m\u001b[0mworkers\u001b[0m\u001b[0;34m=\u001b[0m\u001b[0;36m4\u001b[0m\u001b[0;34m,\u001b[0m\u001b[0;34m\u001b[0m\u001b[0;34m\u001b[0m\u001b[0m\n\u001b[0;32m----> 9\u001b[0;31m         validation_steps=int(np.ceil(valid_data.shape[0]) / (bs)))\n\u001b[0m",
      "\u001b[0;32m/media/danish/Data/anaconda/envs/tf/lib/python3.6/site-packages/tensorflow/python/keras/engine/training.py\u001b[0m in \u001b[0;36mfit_generator\u001b[0;34m(self, generator, steps_per_epoch, epochs, verbose, callbacks, validation_data, validation_steps, class_weight, max_queue_size, workers, use_multiprocessing, shuffle, initial_epoch)\u001b[0m\n\u001b[1;32m   1424\u001b[0m         \u001b[0muse_multiprocessing\u001b[0m\u001b[0;34m=\u001b[0m\u001b[0muse_multiprocessing\u001b[0m\u001b[0;34m,\u001b[0m\u001b[0;34m\u001b[0m\u001b[0;34m\u001b[0m\u001b[0m\n\u001b[1;32m   1425\u001b[0m         \u001b[0mshuffle\u001b[0m\u001b[0;34m=\u001b[0m\u001b[0mshuffle\u001b[0m\u001b[0;34m,\u001b[0m\u001b[0;34m\u001b[0m\u001b[0;34m\u001b[0m\u001b[0m\n\u001b[0;32m-> 1426\u001b[0;31m         initial_epoch=initial_epoch)\n\u001b[0m\u001b[1;32m   1427\u001b[0m \u001b[0;34m\u001b[0m\u001b[0m\n\u001b[1;32m   1428\u001b[0m   def evaluate_generator(self,\n",
      "\u001b[0;32m/media/danish/Data/anaconda/envs/tf/lib/python3.6/site-packages/tensorflow/python/keras/engine/training_generator.py\u001b[0m in \u001b[0;36mmodel_iteration\u001b[0;34m(model, data, steps_per_epoch, epochs, verbose, callbacks, validation_data, validation_steps, class_weight, max_queue_size, workers, use_multiprocessing, shuffle, initial_epoch, mode, batch_size, **kwargs)\u001b[0m\n\u001b[1;32m    189\u001b[0m       \u001b[0mprogbar\u001b[0m\u001b[0;34m.\u001b[0m\u001b[0mon_batch_begin\u001b[0m\u001b[0;34m(\u001b[0m\u001b[0mstep\u001b[0m\u001b[0;34m,\u001b[0m \u001b[0mbatch_logs\u001b[0m\u001b[0;34m)\u001b[0m\u001b[0;34m\u001b[0m\u001b[0;34m\u001b[0m\u001b[0m\n\u001b[1;32m    190\u001b[0m \u001b[0;34m\u001b[0m\u001b[0m\n\u001b[0;32m--> 191\u001b[0;31m       \u001b[0mbatch_outs\u001b[0m \u001b[0;34m=\u001b[0m \u001b[0mbatch_function\u001b[0m\u001b[0;34m(\u001b[0m\u001b[0;34m*\u001b[0m\u001b[0mbatch_data\u001b[0m\u001b[0;34m)\u001b[0m\u001b[0;34m\u001b[0m\u001b[0;34m\u001b[0m\u001b[0m\n\u001b[0m\u001b[1;32m    192\u001b[0m       \u001b[0;32mif\u001b[0m \u001b[0;32mnot\u001b[0m \u001b[0misinstance\u001b[0m\u001b[0;34m(\u001b[0m\u001b[0mbatch_outs\u001b[0m\u001b[0;34m,\u001b[0m \u001b[0mlist\u001b[0m\u001b[0;34m)\u001b[0m\u001b[0;34m:\u001b[0m\u001b[0;34m\u001b[0m\u001b[0;34m\u001b[0m\u001b[0m\n\u001b[1;32m    193\u001b[0m         \u001b[0mbatch_outs\u001b[0m \u001b[0;34m=\u001b[0m \u001b[0;34m[\u001b[0m\u001b[0mbatch_outs\u001b[0m\u001b[0;34m]\u001b[0m\u001b[0;34m\u001b[0m\u001b[0;34m\u001b[0m\u001b[0m\n",
      "\u001b[0;32m/media/danish/Data/anaconda/envs/tf/lib/python3.6/site-packages/tensorflow/python/keras/engine/training.py\u001b[0m in \u001b[0;36mtrain_on_batch\u001b[0;34m(self, x, y, sample_weight, class_weight, reset_metrics)\u001b[0m\n\u001b[1;32m   1189\u001b[0m       \u001b[0;32melse\u001b[0m\u001b[0;34m:\u001b[0m\u001b[0;34m\u001b[0m\u001b[0;34m\u001b[0m\u001b[0m\n\u001b[1;32m   1190\u001b[0m         \u001b[0mself\u001b[0m\u001b[0;34m.\u001b[0m\u001b[0m_make_fit_function\u001b[0m\u001b[0;34m(\u001b[0m\u001b[0;34m)\u001b[0m\u001b[0;34m\u001b[0m\u001b[0;34m\u001b[0m\u001b[0m\n\u001b[0;32m-> 1191\u001b[0;31m         \u001b[0moutputs\u001b[0m \u001b[0;34m=\u001b[0m \u001b[0mself\u001b[0m\u001b[0;34m.\u001b[0m\u001b[0m_fit_function\u001b[0m\u001b[0;34m(\u001b[0m\u001b[0mins\u001b[0m\u001b[0;34m)\u001b[0m  \u001b[0;31m# pylint: disable=not-callable\u001b[0m\u001b[0;34m\u001b[0m\u001b[0;34m\u001b[0m\u001b[0m\n\u001b[0m\u001b[1;32m   1192\u001b[0m \u001b[0;34m\u001b[0m\u001b[0m\n\u001b[1;32m   1193\u001b[0m     \u001b[0;32mif\u001b[0m \u001b[0mreset_metrics\u001b[0m\u001b[0;34m:\u001b[0m\u001b[0;34m\u001b[0m\u001b[0;34m\u001b[0m\u001b[0m\n",
      "\u001b[0;32m/media/danish/Data/anaconda/envs/tf/lib/python3.6/site-packages/tensorflow/python/keras/backend.py\u001b[0m in \u001b[0;36m__call__\u001b[0;34m(self, inputs)\u001b[0m\n\u001b[1;32m   3074\u001b[0m \u001b[0;34m\u001b[0m\u001b[0m\n\u001b[1;32m   3075\u001b[0m     fetched = self._callable_fn(*array_vals,\n\u001b[0;32m-> 3076\u001b[0;31m                                 run_metadata=self.run_metadata)\n\u001b[0m\u001b[1;32m   3077\u001b[0m     \u001b[0mself\u001b[0m\u001b[0;34m.\u001b[0m\u001b[0m_call_fetch_callbacks\u001b[0m\u001b[0;34m(\u001b[0m\u001b[0mfetched\u001b[0m\u001b[0;34m[\u001b[0m\u001b[0;34m-\u001b[0m\u001b[0mlen\u001b[0m\u001b[0;34m(\u001b[0m\u001b[0mself\u001b[0m\u001b[0;34m.\u001b[0m\u001b[0m_fetches\u001b[0m\u001b[0;34m)\u001b[0m\u001b[0;34m:\u001b[0m\u001b[0;34m]\u001b[0m\u001b[0;34m)\u001b[0m\u001b[0;34m\u001b[0m\u001b[0;34m\u001b[0m\u001b[0m\n\u001b[1;32m   3078\u001b[0m     return nest.pack_sequence_as(self._outputs_structure,\n",
      "\u001b[0;32m/media/danish/Data/anaconda/envs/tf/lib/python3.6/site-packages/tensorflow/python/client/session.py\u001b[0m in \u001b[0;36m__call__\u001b[0;34m(self, *args, **kwargs)\u001b[0m\n\u001b[1;32m   1437\u001b[0m           ret = tf_session.TF_SessionRunCallable(\n\u001b[1;32m   1438\u001b[0m               \u001b[0mself\u001b[0m\u001b[0;34m.\u001b[0m\u001b[0m_session\u001b[0m\u001b[0;34m.\u001b[0m\u001b[0m_session\u001b[0m\u001b[0;34m,\u001b[0m \u001b[0mself\u001b[0m\u001b[0;34m.\u001b[0m\u001b[0m_handle\u001b[0m\u001b[0;34m,\u001b[0m \u001b[0margs\u001b[0m\u001b[0;34m,\u001b[0m \u001b[0mstatus\u001b[0m\u001b[0;34m,\u001b[0m\u001b[0;34m\u001b[0m\u001b[0;34m\u001b[0m\u001b[0m\n\u001b[0;32m-> 1439\u001b[0;31m               run_metadata_ptr)\n\u001b[0m\u001b[1;32m   1440\u001b[0m         \u001b[0;32mif\u001b[0m \u001b[0mrun_metadata\u001b[0m\u001b[0;34m:\u001b[0m\u001b[0;34m\u001b[0m\u001b[0;34m\u001b[0m\u001b[0m\n\u001b[1;32m   1441\u001b[0m           \u001b[0mproto_data\u001b[0m \u001b[0;34m=\u001b[0m \u001b[0mtf_session\u001b[0m\u001b[0;34m.\u001b[0m\u001b[0mTF_GetBuffer\u001b[0m\u001b[0;34m(\u001b[0m\u001b[0mrun_metadata_ptr\u001b[0m\u001b[0;34m)\u001b[0m\u001b[0;34m\u001b[0m\u001b[0;34m\u001b[0m\u001b[0m\n",
      "\u001b[0;31mKeyboardInterrupt\u001b[0m: "
     ]
    }
   ],
   "source": [
    "fit(10)"
   ]
  },
  {
   "cell_type": "code",
   "execution_count": null,
   "metadata": {},
   "outputs": [],
   "source": [
    "k.backend.set_value(adam.lr,lr/3)\n",
    "fit(10)"
   ]
  }
 ],
 "metadata": {
  "kernelspec": {
   "display_name": "tf",
   "language": "python",
   "name": "tf"
  },
  "language_info": {
   "codemirror_mode": {
    "name": "ipython",
    "version": 3
   },
   "file_extension": ".py",
   "mimetype": "text/x-python",
   "name": "python",
   "nbconvert_exporter": "python",
   "pygments_lexer": "ipython3",
   "version": "3.6.8"
  }
 },
 "nbformat": 4,
 "nbformat_minor": 2
}
